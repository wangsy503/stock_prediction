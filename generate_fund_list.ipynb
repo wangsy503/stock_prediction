{
 "metadata": {
  "language_info": {
   "codemirror_mode": {
    "name": "ipython",
    "version": 3
   },
   "file_extension": ".py",
   "mimetype": "text/x-python",
   "name": "python",
   "nbconvert_exporter": "python",
   "pygments_lexer": "ipython3",
   "version": "3.8.5"
  },
  "orig_nbformat": 2,
  "kernelspec": {
   "name": "python385jvsc74a57bd0fca7d41777ce3edd78a31a00163a32bda89b801e12c39377e837bf5c170a6a22",
   "display_name": "Python 3.8.5 64-bit ('base': conda)"
  }
 },
 "nbformat": 4,
 "nbformat_minor": 2,
 "cells": [
  {
   "cell_type": "code",
   "execution_count": 151,
   "metadata": {},
   "outputs": [],
   "source": [
    "import tushare as ts\n",
    "import pandas as pd\n",
    "from math import isnan\n",
    "pro = ts.pro_api('5d2dd2c56bb822ac0e818aaa4b0b344f95c7d5e7b9c83c69e2ed90ff')"
   ]
  },
  {
   "cell_type": "code",
   "execution_count": 137,
   "metadata": {},
   "outputs": [],
   "source": [
    "fund_list_O = pro.fund_basic(market = 'O') # 场外基金"
   ]
  },
  {
   "cell_type": "code",
   "execution_count": 138,
   "metadata": {},
   "outputs": [],
   "source": [
    "fund_list_E = pro.fund_basic(market = 'E') # 场内基金"
   ]
  },
  {
   "cell_type": "code",
   "execution_count": 139,
   "metadata": {},
   "outputs": [],
   "source": [
    "fund_list = pd.concat([fund_list_E, fund_list_O], ignore_index=True) # merge the 2 fund table to get a whole perspect"
   ]
  },
  {
   "cell_type": "code",
   "execution_count": 140,
   "metadata": {},
   "outputs": [],
   "source": [
    "fund_list = fund_list.drop(fund_list[(fund_list['found_date'] > '20180101') | (fund_list['delist_date'] < '20201231')].index) # delete funds with found_date after 2018.01.01"
   ]
  },
  {
   "cell_type": "code",
   "execution_count": 141,
   "metadata": {},
   "outputs": [],
   "source": [
    "fund_list = fund_list.drop(columns=['exp_return', 'benchmark', 'm_fee', 'c_fee', 'min_amount', 'purc_startdate', 'redm_startdate']) # delete 预期收益率, 业绩比较基准, 管理费, 托管费, 起点金额(万元), 日常申购起始日, 日常赎回起始日"
   ]
  },
  {
   "cell_type": "code",
   "execution_count": 142,
   "metadata": {},
   "outputs": [],
   "source": [
    "fund_list = fund_list.drop(columns=['found_date', 'due_date', 'list_date', 'issue_date', 'delist_date']) # delete some dates, this can be revealed in funds' semi-year reports, also portfolios."
   ]
  },
  {
   "cell_type": "code",
   "execution_count": 143,
   "metadata": {},
   "outputs": [],
   "source": [
    "fund_list = fund_list.drop(columns=['type', 'trustee', 'custodian', 'management', 'invest_type', 'duration_year'])"
   ]
  },
  {
   "cell_type": "code",
   "execution_count": 153,
   "metadata": {},
   "outputs": [],
   "source": [
    "fund_list = fund_list.drop(fund_list[pd.isnull(fund_list['issue_amount'])].index)"
   ]
  },
  {
   "cell_type": "code",
   "execution_count": 145,
   "metadata": {},
   "outputs": [],
   "source": [
    "fund_list = fund_list.reset_index(drop=True)"
   ]
  },
  {
   "cell_type": "code",
   "execution_count": 154,
   "metadata": {},
   "outputs": [
    {
     "output_type": "execute_result",
     "data": {
      "text/plain": [
       "         ts_code        name fund_type  issue_amount  duration_year  p_value  \\\n",
       "0      512980.SH       传媒ETF       股票型        2.7472            NaN      1.0   \n",
       "1      510390.SH  平安沪深300ETF       股票型       57.2306            NaN      1.0   \n",
       "2      159958.SZ       创业板ET       股票型        2.5181            NaN      1.0   \n",
       "3      510800.SH     50ETF基金       股票型        2.1058            NaN      1.0   \n",
       "4      501053.SH     东方红目标优选       混合型        9.9042            NaN      1.0   \n",
       "...          ...         ...       ...           ...            ...      ...   \n",
       "7178  2060011.OF      鹏华行业成长       混合型       39.7718            NaN      1.0   \n",
       "7179   020001.OF      国泰金鹰增长       混合型       22.2637            NaN      1.0   \n",
       "7180   000001.OF        华夏成长       混合型       32.3683            NaN      1.0   \n",
       "7181   202001.OF      南方稳健成长       混合型       34.8894            NaN      1.0   \n",
       "7182   040001.OF        华安创新       混合型       50.0000            NaN      1.0   \n",
       "\n",
       "     status invest_type market  \n",
       "0         L       被动指数型      E  \n",
       "1         L       被动指数型      E  \n",
       "2         L       被动指数型      E  \n",
       "3         L       被动指数型      E  \n",
       "4         L         混合型      E  \n",
       "...     ...         ...    ...  \n",
       "7178      D         平衡型      O  \n",
       "7179      L       灵活配置型      O  \n",
       "7180      L         成长型      O  \n",
       "7181      L         成长型      O  \n",
       "7182      L         创新型      O  \n",
       "\n",
       "[6614 rows x 9 columns]"
      ],
      "text/html": "<div>\n<style scoped>\n    .dataframe tbody tr th:only-of-type {\n        vertical-align: middle;\n    }\n\n    .dataframe tbody tr th {\n        vertical-align: top;\n    }\n\n    .dataframe thead th {\n        text-align: right;\n    }\n</style>\n<table border=\"1\" class=\"dataframe\">\n  <thead>\n    <tr style=\"text-align: right;\">\n      <th></th>\n      <th>ts_code</th>\n      <th>name</th>\n      <th>fund_type</th>\n      <th>issue_amount</th>\n      <th>duration_year</th>\n      <th>p_value</th>\n      <th>status</th>\n      <th>invest_type</th>\n      <th>market</th>\n    </tr>\n  </thead>\n  <tbody>\n    <tr>\n      <th>0</th>\n      <td>512980.SH</td>\n      <td>传媒ETF</td>\n      <td>股票型</td>\n      <td>2.7472</td>\n      <td>NaN</td>\n      <td>1.0</td>\n      <td>L</td>\n      <td>被动指数型</td>\n      <td>E</td>\n    </tr>\n    <tr>\n      <th>1</th>\n      <td>510390.SH</td>\n      <td>平安沪深300ETF</td>\n      <td>股票型</td>\n      <td>57.2306</td>\n      <td>NaN</td>\n      <td>1.0</td>\n      <td>L</td>\n      <td>被动指数型</td>\n      <td>E</td>\n    </tr>\n    <tr>\n      <th>2</th>\n      <td>159958.SZ</td>\n      <td>创业板ET</td>\n      <td>股票型</td>\n      <td>2.5181</td>\n      <td>NaN</td>\n      <td>1.0</td>\n      <td>L</td>\n      <td>被动指数型</td>\n      <td>E</td>\n    </tr>\n    <tr>\n      <th>3</th>\n      <td>510800.SH</td>\n      <td>50ETF基金</td>\n      <td>股票型</td>\n      <td>2.1058</td>\n      <td>NaN</td>\n      <td>1.0</td>\n      <td>L</td>\n      <td>被动指数型</td>\n      <td>E</td>\n    </tr>\n    <tr>\n      <th>4</th>\n      <td>501053.SH</td>\n      <td>东方红目标优选</td>\n      <td>混合型</td>\n      <td>9.9042</td>\n      <td>NaN</td>\n      <td>1.0</td>\n      <td>L</td>\n      <td>混合型</td>\n      <td>E</td>\n    </tr>\n    <tr>\n      <th>...</th>\n      <td>...</td>\n      <td>...</td>\n      <td>...</td>\n      <td>...</td>\n      <td>...</td>\n      <td>...</td>\n      <td>...</td>\n      <td>...</td>\n      <td>...</td>\n    </tr>\n    <tr>\n      <th>7178</th>\n      <td>2060011.OF</td>\n      <td>鹏华行业成长</td>\n      <td>混合型</td>\n      <td>39.7718</td>\n      <td>NaN</td>\n      <td>1.0</td>\n      <td>D</td>\n      <td>平衡型</td>\n      <td>O</td>\n    </tr>\n    <tr>\n      <th>7179</th>\n      <td>020001.OF</td>\n      <td>国泰金鹰增长</td>\n      <td>混合型</td>\n      <td>22.2637</td>\n      <td>NaN</td>\n      <td>1.0</td>\n      <td>L</td>\n      <td>灵活配置型</td>\n      <td>O</td>\n    </tr>\n    <tr>\n      <th>7180</th>\n      <td>000001.OF</td>\n      <td>华夏成长</td>\n      <td>混合型</td>\n      <td>32.3683</td>\n      <td>NaN</td>\n      <td>1.0</td>\n      <td>L</td>\n      <td>成长型</td>\n      <td>O</td>\n    </tr>\n    <tr>\n      <th>7181</th>\n      <td>202001.OF</td>\n      <td>南方稳健成长</td>\n      <td>混合型</td>\n      <td>34.8894</td>\n      <td>NaN</td>\n      <td>1.0</td>\n      <td>L</td>\n      <td>成长型</td>\n      <td>O</td>\n    </tr>\n    <tr>\n      <th>7182</th>\n      <td>040001.OF</td>\n      <td>华安创新</td>\n      <td>混合型</td>\n      <td>50.0000</td>\n      <td>NaN</td>\n      <td>1.0</td>\n      <td>L</td>\n      <td>创新型</td>\n      <td>O</td>\n    </tr>\n  </tbody>\n</table>\n<p>6614 rows × 9 columns</p>\n</div>"
     },
     "metadata": {},
     "execution_count": 154
    }
   ],
   "source": [
    "fund_list"
   ]
  },
  {
   "cell_type": "code",
   "execution_count": 1,
   "metadata": {},
   "outputs": [
    {
     "output_type": "error",
     "ename": "NameError",
     "evalue": "name 'fund_list' is not defined",
     "traceback": [
      "\u001b[1;31m---------------------------------------------------------------------------\u001b[0m",
      "\u001b[1;31mNameError\u001b[0m                                 Traceback (most recent call last)",
      "\u001b[1;32m<ipython-input-1-040818e044c0>\u001b[0m in \u001b[0;36m<module>\u001b[1;34m\u001b[0m\n\u001b[1;32m----> 1\u001b[1;33m \u001b[0mfund_list\u001b[0m\u001b[1;33m.\u001b[0m\u001b[0mto_csv\u001b[0m\u001b[1;33m(\u001b[0m\u001b[1;34m\"data/fund_list.csv\"\u001b[0m\u001b[1;33m)\u001b[0m\u001b[1;33m\u001b[0m\u001b[1;33m\u001b[0m\u001b[0m\n\u001b[0m",
      "\u001b[1;31mNameError\u001b[0m: name 'fund_list' is not defined"
     ]
    }
   ],
   "source": [
    "fund_list.to_csv(\"data/fund_list.csv\")"
   ]
  },
  {
   "cell_type": "code",
   "execution_count": null,
   "metadata": {},
   "outputs": [],
   "source": []
  }
 ]
}