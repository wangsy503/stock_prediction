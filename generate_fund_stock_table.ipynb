{
 "metadata": {
  "language_info": {
   "codemirror_mode": {
    "name": "ipython",
    "version": 3
   },
   "file_extension": ".py",
   "mimetype": "text/x-python",
   "name": "python",
   "nbconvert_exporter": "python",
   "pygments_lexer": "ipython3",
   "version": "3.8.5"
  },
  "orig_nbformat": 2,
  "kernelspec": {
   "name": "python385jvsc74a57bd0fca7d41777ce3edd78a31a00163a32bda89b801e12c39377e837bf5c170a6a22",
   "display_name": "Python 3.8.5 64-bit ('base': conda)"
  }
 },
 "nbformat": 4,
 "nbformat_minor": 2,
 "cells": [
  {
   "cell_type": "code",
   "execution_count": 1,
   "metadata": {},
   "outputs": [],
   "source": [
    "import tushare as ts\n",
    "import pandas as pd\n",
    "import time\n",
    "from tqdm import tqdm\n",
    "pro = ts.pro_api('5d2dd2c56bb822ac0e818aaa4b0b344f95c7d5e7b9c83c69e2ed90ff')"
   ]
  },
  {
   "cell_type": "code",
   "execution_count": 2,
   "metadata": {},
   "outputs": [],
   "source": [
    "sum_fund_stock = pd.read_csv(\"data/sum_fund_stock.csv\", index_col=0)"
   ]
  },
  {
   "cell_type": "code",
   "execution_count": 3,
   "metadata": {},
   "outputs": [
    {
     "output_type": "execute_result",
     "data": {
      "text/plain": [
       "          ts_code     symbol       avg_mkv\n",
       "0       000001.OF  000002.SZ  4.036247e+07\n",
       "1       000001.OF  000009.SZ  2.595077e+05\n",
       "2       000001.OF  000034.SZ  4.221638e+05\n",
       "3       000001.OF  000063.SZ  3.945497e+06\n",
       "4       000001.OF  000069.SZ  1.886667e+06\n",
       "...           ...        ...           ...\n",
       "745719  770001.OF  603939.SH  9.201111e+04\n",
       "745720  770001.OF  688081.SH  4.200156e+03\n",
       "745721  770001.OF  688090.SH  6.797117e+03\n",
       "745722  770001.OF  688181.SH  4.820697e+03\n",
       "745723  770001.OF  688363.SH  8.216667e+03\n",
       "\n",
       "[745724 rows x 3 columns]"
      ],
      "text/html": "<div>\n<style scoped>\n    .dataframe tbody tr th:only-of-type {\n        vertical-align: middle;\n    }\n\n    .dataframe tbody tr th {\n        vertical-align: top;\n    }\n\n    .dataframe thead th {\n        text-align: right;\n    }\n</style>\n<table border=\"1\" class=\"dataframe\">\n  <thead>\n    <tr style=\"text-align: right;\">\n      <th></th>\n      <th>ts_code</th>\n      <th>symbol</th>\n      <th>avg_mkv</th>\n    </tr>\n  </thead>\n  <tbody>\n    <tr>\n      <th>0</th>\n      <td>000001.OF</td>\n      <td>000002.SZ</td>\n      <td>4.036247e+07</td>\n    </tr>\n    <tr>\n      <th>1</th>\n      <td>000001.OF</td>\n      <td>000009.SZ</td>\n      <td>2.595077e+05</td>\n    </tr>\n    <tr>\n      <th>2</th>\n      <td>000001.OF</td>\n      <td>000034.SZ</td>\n      <td>4.221638e+05</td>\n    </tr>\n    <tr>\n      <th>3</th>\n      <td>000001.OF</td>\n      <td>000063.SZ</td>\n      <td>3.945497e+06</td>\n    </tr>\n    <tr>\n      <th>4</th>\n      <td>000001.OF</td>\n      <td>000069.SZ</td>\n      <td>1.886667e+06</td>\n    </tr>\n    <tr>\n      <th>...</th>\n      <td>...</td>\n      <td>...</td>\n      <td>...</td>\n    </tr>\n    <tr>\n      <th>745719</th>\n      <td>770001.OF</td>\n      <td>603939.SH</td>\n      <td>9.201111e+04</td>\n    </tr>\n    <tr>\n      <th>745720</th>\n      <td>770001.OF</td>\n      <td>688081.SH</td>\n      <td>4.200156e+03</td>\n    </tr>\n    <tr>\n      <th>745721</th>\n      <td>770001.OF</td>\n      <td>688090.SH</td>\n      <td>6.797117e+03</td>\n    </tr>\n    <tr>\n      <th>745722</th>\n      <td>770001.OF</td>\n      <td>688181.SH</td>\n      <td>4.820697e+03</td>\n    </tr>\n    <tr>\n      <th>745723</th>\n      <td>770001.OF</td>\n      <td>688363.SH</td>\n      <td>8.216667e+03</td>\n    </tr>\n  </tbody>\n</table>\n<p>745724 rows × 3 columns</p>\n</div>"
     },
     "metadata": {},
     "execution_count": 3
    }
   ],
   "source": [
    "sum_fund_stock"
   ]
  },
  {
   "cell_type": "code",
   "execution_count": 7,
   "metadata": {},
   "outputs": [],
   "source": [
    "fund_stock = sum_fund_stock.pivot_table(columns='symbol', values='avg_mkv', index=('ts_code')).reset_index().fillna(0)"
   ]
  },
  {
   "cell_type": "code",
   "execution_count": 8,
   "metadata": {},
   "outputs": [
    {
     "output_type": "execute_result",
     "data": {
      "text/plain": [
       "symbol    ts_code   000001.SZ     000002.SZ  000004.SZ  000005.SZ  000006.SZ  \\\n",
       "0       000001.OF        0.00  4.036247e+07        0.0        0.0        0.0   \n",
       "1       000003.OF        0.00  0.000000e+00        0.0        0.0        0.0   \n",
       "2       000004.OF        0.00  0.000000e+00        0.0        0.0        0.0   \n",
       "3       000007.OF        0.00  0.000000e+00        0.0        0.0        0.0   \n",
       "4       000008.OF        0.00  0.000000e+00        0.0        0.0    15150.5   \n",
       "...           ...         ...           ...        ...        ...        ...   \n",
       "3977    740101.OF        0.00  0.000000e+00        0.0        0.0        0.0   \n",
       "3978    750001.OF        0.00  2.153730e+05        0.0        0.0        0.0   \n",
       "3979    750005.OF        0.00  2.261889e+04        0.0        0.0        0.0   \n",
       "3980    762001.OF  1517032.75  5.668023e+05        0.0        0.0        0.0   \n",
       "3981    770001.OF    25250.00  3.451111e+04        0.0        0.0        0.0   \n",
       "\n",
       "symbol  000007.SZ     000008.SZ      000009.SZ  000010.SZ  ...  688596.SH  \\\n",
       "0             0.0      0.000000  259507.722222        0.0  ...        0.0   \n",
       "1             0.0      0.000000       0.000000        0.0  ...        0.0   \n",
       "2             0.0      0.000000       0.000000        0.0  ...        0.0   \n",
       "3             0.0      0.000000       0.000000        0.0  ...        0.0   \n",
       "4             0.0  21209.666667   41856.955556        0.0  ...        0.0   \n",
       "...           ...           ...            ...        ...  ...        ...   \n",
       "3977          0.0  11526.055556       0.000000        0.0  ...        0.0   \n",
       "3978          0.0      0.000000       0.000000        0.0  ...        0.0   \n",
       "3979          0.0      0.000000       0.000000        0.0  ...        0.0   \n",
       "3980          0.0      0.000000       0.000000        0.0  ...        0.0   \n",
       "3981          0.0      0.000000       0.000000        0.0  ...        0.0   \n",
       "\n",
       "symbol  688598.SH     688599.SH  6886.HK  688600.SH  688981.SH  6969.HK  \\\n",
       "0             0.0      0.000000      0.0        0.0        0.0      0.0   \n",
       "1             0.0      0.000000      0.0        0.0        0.0      0.0   \n",
       "2             0.0      0.000000      0.0        0.0        0.0      0.0   \n",
       "3             0.0      0.000000      0.0        0.0        0.0      0.0   \n",
       "4             0.0      0.000000      0.0        0.0        0.0      0.0   \n",
       "...           ...           ...      ...        ...        ...      ...   \n",
       "3977          0.0      0.000000      0.0        0.0        0.0      0.0   \n",
       "3978          0.0      0.000000      0.0        0.0        0.0      0.0   \n",
       "3979          0.0      0.000000      0.0        0.0        0.0      0.0   \n",
       "3980          0.0  43188.231667      0.0        0.0        0.0      0.0   \n",
       "3981          0.0      0.000000      0.0        0.0        0.0      0.0   \n",
       "\n",
       "symbol  9928.HK  LNVGY.OO  TTNDY.OO  \n",
       "0           0.0       0.0       0.0  \n",
       "1           0.0       0.0       0.0  \n",
       "2           0.0       0.0       0.0  \n",
       "3           0.0       0.0       0.0  \n",
       "4           0.0       0.0       0.0  \n",
       "...         ...       ...       ...  \n",
       "3977        0.0       0.0       0.0  \n",
       "3978        0.0       0.0       0.0  \n",
       "3979        0.0       0.0       0.0  \n",
       "3980        0.0       0.0       0.0  \n",
       "3981        0.0       0.0       0.0  \n",
       "\n",
       "[3982 rows x 4496 columns]"
      ],
      "text/html": "<div>\n<style scoped>\n    .dataframe tbody tr th:only-of-type {\n        vertical-align: middle;\n    }\n\n    .dataframe tbody tr th {\n        vertical-align: top;\n    }\n\n    .dataframe thead th {\n        text-align: right;\n    }\n</style>\n<table border=\"1\" class=\"dataframe\">\n  <thead>\n    <tr style=\"text-align: right;\">\n      <th>symbol</th>\n      <th>ts_code</th>\n      <th>000001.SZ</th>\n      <th>000002.SZ</th>\n      <th>000004.SZ</th>\n      <th>000005.SZ</th>\n      <th>000006.SZ</th>\n      <th>000007.SZ</th>\n      <th>000008.SZ</th>\n      <th>000009.SZ</th>\n      <th>000010.SZ</th>\n      <th>...</th>\n      <th>688596.SH</th>\n      <th>688598.SH</th>\n      <th>688599.SH</th>\n      <th>6886.HK</th>\n      <th>688600.SH</th>\n      <th>688981.SH</th>\n      <th>6969.HK</th>\n      <th>9928.HK</th>\n      <th>LNVGY.OO</th>\n      <th>TTNDY.OO</th>\n    </tr>\n  </thead>\n  <tbody>\n    <tr>\n      <th>0</th>\n      <td>000001.OF</td>\n      <td>0.00</td>\n      <td>4.036247e+07</td>\n      <td>0.0</td>\n      <td>0.0</td>\n      <td>0.0</td>\n      <td>0.0</td>\n      <td>0.000000</td>\n      <td>259507.722222</td>\n      <td>0.0</td>\n      <td>...</td>\n      <td>0.0</td>\n      <td>0.0</td>\n      <td>0.000000</td>\n      <td>0.0</td>\n      <td>0.0</td>\n      <td>0.0</td>\n      <td>0.0</td>\n      <td>0.0</td>\n      <td>0.0</td>\n      <td>0.0</td>\n    </tr>\n    <tr>\n      <th>1</th>\n      <td>000003.OF</td>\n      <td>0.00</td>\n      <td>0.000000e+00</td>\n      <td>0.0</td>\n      <td>0.0</td>\n      <td>0.0</td>\n      <td>0.0</td>\n      <td>0.000000</td>\n      <td>0.000000</td>\n      <td>0.0</td>\n      <td>...</td>\n      <td>0.0</td>\n      <td>0.0</td>\n      <td>0.000000</td>\n      <td>0.0</td>\n      <td>0.0</td>\n      <td>0.0</td>\n      <td>0.0</td>\n      <td>0.0</td>\n      <td>0.0</td>\n      <td>0.0</td>\n    </tr>\n    <tr>\n      <th>2</th>\n      <td>000004.OF</td>\n      <td>0.00</td>\n      <td>0.000000e+00</td>\n      <td>0.0</td>\n      <td>0.0</td>\n      <td>0.0</td>\n      <td>0.0</td>\n      <td>0.000000</td>\n      <td>0.000000</td>\n      <td>0.0</td>\n      <td>...</td>\n      <td>0.0</td>\n      <td>0.0</td>\n      <td>0.000000</td>\n      <td>0.0</td>\n      <td>0.0</td>\n      <td>0.0</td>\n      <td>0.0</td>\n      <td>0.0</td>\n      <td>0.0</td>\n      <td>0.0</td>\n    </tr>\n    <tr>\n      <th>3</th>\n      <td>000007.OF</td>\n      <td>0.00</td>\n      <td>0.000000e+00</td>\n      <td>0.0</td>\n      <td>0.0</td>\n      <td>0.0</td>\n      <td>0.0</td>\n      <td>0.000000</td>\n      <td>0.000000</td>\n      <td>0.0</td>\n      <td>...</td>\n      <td>0.0</td>\n      <td>0.0</td>\n      <td>0.000000</td>\n      <td>0.0</td>\n      <td>0.0</td>\n      <td>0.0</td>\n      <td>0.0</td>\n      <td>0.0</td>\n      <td>0.0</td>\n      <td>0.0</td>\n    </tr>\n    <tr>\n      <th>4</th>\n      <td>000008.OF</td>\n      <td>0.00</td>\n      <td>0.000000e+00</td>\n      <td>0.0</td>\n      <td>0.0</td>\n      <td>15150.5</td>\n      <td>0.0</td>\n      <td>21209.666667</td>\n      <td>41856.955556</td>\n      <td>0.0</td>\n      <td>...</td>\n      <td>0.0</td>\n      <td>0.0</td>\n      <td>0.000000</td>\n      <td>0.0</td>\n      <td>0.0</td>\n      <td>0.0</td>\n      <td>0.0</td>\n      <td>0.0</td>\n      <td>0.0</td>\n      <td>0.0</td>\n    </tr>\n    <tr>\n      <th>...</th>\n      <td>...</td>\n      <td>...</td>\n      <td>...</td>\n      <td>...</td>\n      <td>...</td>\n      <td>...</td>\n      <td>...</td>\n      <td>...</td>\n      <td>...</td>\n      <td>...</td>\n      <td>...</td>\n      <td>...</td>\n      <td>...</td>\n      <td>...</td>\n      <td>...</td>\n      <td>...</td>\n      <td>...</td>\n      <td>...</td>\n      <td>...</td>\n      <td>...</td>\n      <td>...</td>\n    </tr>\n    <tr>\n      <th>3977</th>\n      <td>740101.OF</td>\n      <td>0.00</td>\n      <td>0.000000e+00</td>\n      <td>0.0</td>\n      <td>0.0</td>\n      <td>0.0</td>\n      <td>0.0</td>\n      <td>11526.055556</td>\n      <td>0.000000</td>\n      <td>0.0</td>\n      <td>...</td>\n      <td>0.0</td>\n      <td>0.0</td>\n      <td>0.000000</td>\n      <td>0.0</td>\n      <td>0.0</td>\n      <td>0.0</td>\n      <td>0.0</td>\n      <td>0.0</td>\n      <td>0.0</td>\n      <td>0.0</td>\n    </tr>\n    <tr>\n      <th>3978</th>\n      <td>750001.OF</td>\n      <td>0.00</td>\n      <td>2.153730e+05</td>\n      <td>0.0</td>\n      <td>0.0</td>\n      <td>0.0</td>\n      <td>0.0</td>\n      <td>0.000000</td>\n      <td>0.000000</td>\n      <td>0.0</td>\n      <td>...</td>\n      <td>0.0</td>\n      <td>0.0</td>\n      <td>0.000000</td>\n      <td>0.0</td>\n      <td>0.0</td>\n      <td>0.0</td>\n      <td>0.0</td>\n      <td>0.0</td>\n      <td>0.0</td>\n      <td>0.0</td>\n    </tr>\n    <tr>\n      <th>3979</th>\n      <td>750005.OF</td>\n      <td>0.00</td>\n      <td>2.261889e+04</td>\n      <td>0.0</td>\n      <td>0.0</td>\n      <td>0.0</td>\n      <td>0.0</td>\n      <td>0.000000</td>\n      <td>0.000000</td>\n      <td>0.0</td>\n      <td>...</td>\n      <td>0.0</td>\n      <td>0.0</td>\n      <td>0.000000</td>\n      <td>0.0</td>\n      <td>0.0</td>\n      <td>0.0</td>\n      <td>0.0</td>\n      <td>0.0</td>\n      <td>0.0</td>\n      <td>0.0</td>\n    </tr>\n    <tr>\n      <th>3980</th>\n      <td>762001.OF</td>\n      <td>1517032.75</td>\n      <td>5.668023e+05</td>\n      <td>0.0</td>\n      <td>0.0</td>\n      <td>0.0</td>\n      <td>0.0</td>\n      <td>0.000000</td>\n      <td>0.000000</td>\n      <td>0.0</td>\n      <td>...</td>\n      <td>0.0</td>\n      <td>0.0</td>\n      <td>43188.231667</td>\n      <td>0.0</td>\n      <td>0.0</td>\n      <td>0.0</td>\n      <td>0.0</td>\n      <td>0.0</td>\n      <td>0.0</td>\n      <td>0.0</td>\n    </tr>\n    <tr>\n      <th>3981</th>\n      <td>770001.OF</td>\n      <td>25250.00</td>\n      <td>3.451111e+04</td>\n      <td>0.0</td>\n      <td>0.0</td>\n      <td>0.0</td>\n      <td>0.0</td>\n      <td>0.000000</td>\n      <td>0.000000</td>\n      <td>0.0</td>\n      <td>...</td>\n      <td>0.0</td>\n      <td>0.0</td>\n      <td>0.000000</td>\n      <td>0.0</td>\n      <td>0.0</td>\n      <td>0.0</td>\n      <td>0.0</td>\n      <td>0.0</td>\n      <td>0.0</td>\n      <td>0.0</td>\n    </tr>\n  </tbody>\n</table>\n<p>3982 rows × 4496 columns</p>\n</div>"
     },
     "metadata": {},
     "execution_count": 8
    }
   ],
   "source": [
    "fund_stock"
   ]
  },
  {
   "cell_type": "code",
   "execution_count": 9,
   "metadata": {},
   "outputs": [],
   "source": [
    "fund_stock.to_csv(\"data/fund_stock_mkv_version.csv\")"
   ]
  },
  {
   "cell_type": "code",
   "execution_count": null,
   "metadata": {},
   "outputs": [],
   "source": []
  }
 ]
}