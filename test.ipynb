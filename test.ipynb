{
 "metadata": {
  "language_info": {
   "codemirror_mode": {
    "name": "ipython",
    "version": 3
   },
   "file_extension": ".py",
   "mimetype": "text/x-python",
   "name": "python",
   "nbconvert_exporter": "python",
   "pygments_lexer": "ipython3",
   "version": "3.8.5"
  },
  "orig_nbformat": 2,
  "kernelspec": {
   "name": "python385jvsc74a57bd0fca7d41777ce3edd78a31a00163a32bda89b801e12c39377e837bf5c170a6a22",
   "display_name": "Python 3.8.5 64-bit ('base': conda)"
  }
 },
 "nbformat": 4,
 "nbformat_minor": 2,
 "cells": [
  {
   "cell_type": "code",
   "execution_count": null,
   "metadata": {},
   "outputs": [],
   "source": [
    "import akshare as ak"
   ]
  },
  {
   "cell_type": "code",
   "execution_count": 7,
   "metadata": {},
   "outputs": [
    {
     "output_type": "stream",
     "name": "stdout",
     "text": [
      "     序号     股票代码                    股票名称 占净值比例     持股数      持仓市值  \\\n0     1   PSX.US             Phillips 66  3.83   31.73  14480.72   \n1     2   0000PE    Parsley Energy Inc-A  3.76  153.49  14221.43   \n2     3   PXD.US                  先锋自然资源  3.75   19.09  14182.46   \n3     4   DVN.US                    戴文能源  3.72  136.49  14079.98   \n4     5  FANG.US  Diamondback Energy Inc  3.68   44.02  13900.54   \n..   ..      ...                     ...   ...     ...       ...   \n100   6   CXO.US                      康休  3.20   23.17   7033.54   \n101   7   HES.US                    赫斯公司  3.14   29.28   6907.03   \n102   8   RRC.US                    兰奇资源  3.11  423.50   6841.24   \n103   9   PXD.US                  先锋自然资源  2.95   13.03   6477.41   \n104  10   COP.US                    康菲石油  2.89   29.10   6349.73   \n\n                 季度  \n0    2020年4季度股票投资明细  \n1    2020年4季度股票投资明细  \n2    2020年4季度股票投资明细  \n3    2020年4季度股票投资明细  \n4    2020年4季度股票投资明细  \n..              ...  \n100  2020年1季度股票投资明细  \n101  2020年1季度股票投资明细  \n102  2020年1季度股票投资明细  \n103  2020年1季度股票投资明细  \n104  2020年1季度股票投资明细  \n\n[105 rows x 7 columns]\n"
     ]
    }
   ],
   "source": [
    "get_fund_em_portfolio_hold = ak.fund_em_portfolio_hold()\n",
    "print(get_fund_em_portfolio_hold)"
   ]
  },
  {
   "cell_type": "code",
   "execution_count": 5,
   "metadata": {},
   "outputs": [
    {
     "output_type": "stream",
     "name": "stderr",
     "text": [
      "100%|██████████| 52/52 [00:23<00:00,  2.25it/s]      序号   姓名    所属公司                                               现任基金  \\\n",
      "0      1  艾定飞    华商基金                             华商电子行业量化股票,华商计算机行业量化股票   \n",
      "1      2  艾小军    国泰基金  国泰黄金ETF联接A,国泰黄金ETF联接C,国泰量化成长优选混合A,国泰量化成长优选混合C,...   \n",
      "2      3   安昀    长信基金            长信内需成长混合E,长信消费升级混合A,长信消费升级混合C,长信内需成长混合A   \n",
      "3      4   彬彬    人保资产  人保量化混合A,人保量化混合C,人保优势产业混合A,人保优势产业混合C,人保沪深300指数,...   \n",
      "4      5  包兵华    鹏华基金              鹏华研究驱动混合,鹏华研究智选混合,鹏华成长智选混合A,鹏华成长智选混合C   \n",
      "...   ..  ...     ...                                                ...   \n",
      "2547  48  朱征星    富国基金                                           富国金融债债券型   \n",
      "2548  49  张钟玉    大成基金  大成沪深300指数C,大成MSCI价值100ETF联接A,大成MSCI价值100ETF联接C...   \n",
      "2549  50  郑振源  创金合信基金  创金合信货币A,创金合信尊享纯债,创金合信尊盛纯债,创金合信尊丰纯债,创金合信尊智纯债,创金...   \n",
      "2550   1  郑振源  创金合信基金  创金合信货币A,创金合信尊享纯债,创金合信尊盛纯债,创金合信尊丰纯债,创金合信尊智纯债,创金...   \n",
      "2551   2  张子炎    富国基金                      富国鑫旺稳健养老(FOF),富国鑫旺均衡养老三年(FOF)   \n",
      "\n",
      "     累计从业时间 现任基金最佳回报 现任基金资产总规模  \n",
      "0       869    56.12      7.23  \n",
      "1      2647   129.92    793.09  \n",
      "2      2547   145.30     48.11  \n",
      "3       819    47.39      5.23  \n",
      "4       724    94.61    148.30  \n",
      "...     ...      ...       ...  \n",
      "2547    144     1.69      1.87  \n",
      "2548   2236    96.96     25.75  \n",
      "2549   2160    23.77    177.00  \n",
      "2550   2160    23.77    177.00  \n",
      "2551    683    19.52     15.74  \n",
      "\n",
      "[2552 rows x 7 columns]\n",
      "\n"
     ]
    }
   ],
   "source": [
    "fund_manager_df = ak.fund_manager()\n",
    "print(fund_manager_df)"
   ]
  },
  {
   "cell_type": "code",
   "execution_count": null,
   "metadata": {},
   "outputs": [],
   "source": []
  }
 ]
}