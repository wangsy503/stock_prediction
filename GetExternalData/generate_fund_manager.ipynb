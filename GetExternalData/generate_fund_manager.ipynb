{
 "cells": [
  {
   "cell_type": "markdown",
   "metadata": {},
   "source": [
    "# Get managers for funds"
   ]
  },
  {
   "cell_type": "code",
   "execution_count": null,
   "metadata": {},
   "outputs": [],
   "source": [
    "import tushare as ts\n",
    "import pandas as pd\n",
    "import time\n",
    "from tqdm import tqdm\n",
    "pro = ts.pro_api('5d2dd2c56bb822ac0e818aaa4b0b344f95c7d5e7b9c83c69e2ed90ff')"
   ]
  },
  {
   "cell_type": "code",
   "execution_count": null,
   "metadata": {},
   "outputs": [],
   "source": [
    "fund_list = pd.read_csv(\"data/fund_list.csv\", index_col=0)"
   ]
  },
  {
   "cell_type": "markdown",
   "metadata": {},
   "source": [
    "For each funk, get it's manager. Only cconsider managers with 'begin_date' <= 2018. \n",
    "\n",
    "(There may be some logic mistakes in it.)"
   ]
  },
  {
   "cell_type": "code",
   "execution_count": null,
   "metadata": {},
   "outputs": [],
   "source": [
    "def get_manager(fund_code, failed_times, success_times):\n",
    "    for _ in range(3):\n",
    "        try:\n",
    "            df = pro.fund_manager(ts_code=fund_code)\n",
    "            time.sleep(1)\n",
    "        except:\n",
    "            time.sleep(1)\n",
    "        else:\n",
    "            return df, failed_times\n",
    "    failed_times += 1\n",
    "    print(fund_code, \"has failed. Total failed times is\", failed_times, \"success times is\", success_times)\n",
    "    return pd.DataFrame(columns = ['tmp']), failed_times"
   ]
  },
  {
   "cell_type": "code",
   "execution_count": null,
   "metadata": {},
   "outputs": [],
   "source": [
    "success = 0\n",
    "fail = 0\n",
    "raw_manager_list = pd.DataFrame(columns = ['ts_code', 'name', 'birth_year', 'begin_date', 'end_date'])\n",
    "for i in tqdm(fund_list['ts_code'], desc=\"get protfolio\"):\n",
    "    df, fail = get_manager(fund_code = i, failed_times = fail, success_times = success)\n",
    "    if not df.empty:\n",
    "        success += 1\n",
    "        if df.iloc[-1]['begin_date'][:4] <= '2018':\n",
    "            # Drop some useless columns.\n",
    "            df = df.drop(columns=['gender', 'edu', 'nationality', 'ann_date', 'resume'])\n",
    "            # Delete managers with 'end_date' < 20201231\n",
    "            df = df.drop(df[df['end_date'] < '20201231'].index)\n",
    "            # Add it to our manager list.\n",
    "            raw_manager_list = pd.concat([raw_manager_list, df], ignore_index=True)"
   ]
  },
  {
   "cell_type": "markdown",
   "metadata": {},
   "source": [
    "Store it in `manager_list_whole.csv`."
   ]
  },
  {
   "cell_type": "code",
   "execution_count": null,
   "metadata": {},
   "outputs": [],
   "source": [
    "raw_manager_list.to_csv(\"data/manager_list_whole.csv\")"
   ]
  },
  {
   "cell_type": "code",
   "execution_count": null,
   "metadata": {},
   "outputs": [],
   "source": []
  }
 ],
 "metadata": {
  "kernelspec": {
   "display_name": "Python 3",
   "language": "python",
   "name": "python3"
  },
  "language_info": {
   "codemirror_mode": {
    "name": "ipython",
    "version": 3
   },
   "file_extension": ".py",
   "mimetype": "text/x-python",
   "name": "python",
   "nbconvert_exporter": "python",
   "pygments_lexer": "ipython3",
   "version": "3.7.9"
  }
 },
 "nbformat": 4,
 "nbformat_minor": 2
}
