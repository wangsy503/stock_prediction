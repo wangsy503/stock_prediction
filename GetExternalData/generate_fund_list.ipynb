{
 "cells": [
  {
   "cell_type": "markdown",
   "metadata": {},
   "source": [
    "# Get all funds"
   ]
  },
  {
   "cell_type": "code",
   "execution_count": 151,
   "metadata": {},
   "outputs": [],
   "source": [
    "import tushare as ts\n",
    "import pandas as pd\n",
    "from math import isnan\n",
    "pro = ts.pro_api('5d2dd2c56bb822ac0e818aaa4b0b344f95c7d5e7b9c83c69e2ed90ff')"
   ]
  },
  {
   "cell_type": "markdown",
   "metadata": {},
   "source": [
    "Get ETF(场内基金) and LOF(场外基金), then contatenate then."
   ]
  },
  {
   "cell_type": "code",
   "execution_count": 137,
   "metadata": {},
   "outputs": [],
   "source": [
    "fund_list_O = pro.fund_basic(market = 'O') # 场外基金\n",
    "fund_list_E = pro.fund_basic(market = 'E') # 场内基金\n",
    "\n",
    "# merge the 2 fund table to get a whole perspect\n",
    "fund_list = pd.concat([fund_list_E, fund_list_O], ignore_index=True) "
   ]
  },
  {
   "cell_type": "markdown",
   "metadata": {},
   "source": [
    "Drop some invalid data and useless columns.\n",
    "\n",
    "We define invalid fund as \n",
    "- fund with 'found_date' > 20180101\n",
    "- fund with 'delist_date' < 20201231"
   ]
  },
  {
   "cell_type": "code",
   "execution_count": 140,
   "metadata": {},
   "outputs": [],
   "source": [
    "# Delete funds with found_date after 2018.01.01\n",
    "fund_list = fund_list.drop(fund_list[(fund_list['found_date'] > '20180101') | (fund_list['delist_date'] < '20201231')].index) \n",
    "\n",
    "# Delete 预期收益率, 业绩比较基准, 管理费, 托管费, 起点金额(万元), 日常申购起始日, 日常赎回起始日\n",
    "fund_list = fund_list.drop(columns=['exp_return', 'benchmark', 'm_fee', 'c_fee', 'min_amount', 'purc_startdate', 'redm_startdate'])\n",
    "\n",
    "# Delete some dates, this can be revealed in funds' semi-year reports, also portfolios.\n",
    "fund_list = fund_list.drop(columns=['found_date', 'due_date', 'list_date', 'issue_date', 'delist_date']) \n",
    "\n",
    "# Delete useless columns\n",
    "fund_list = fund_list.drop(columns=['type', 'trustee', 'custodian', 'management', 'invest_type', 'duration_year'])\n",
    "\n",
    "# Delete funds with 'issue_amount' == null\n",
    "fund_list = fund_list.drop(fund_list[pd.isnull(fund_list['issue_amount'])].index)"
   ]
  },
  {
   "cell_type": "markdown",
   "metadata": {},
   "source": [
    "Store the funds into `fund_list.csv`."
   ]
  },
  {
   "cell_type": "code",
   "execution_count": 145,
   "metadata": {},
   "outputs": [],
   "source": [
    "fund_list = fund_list.reset_index(drop=True)\n",
    "fund_list.to_csv(\"data/fund_list.csv\")"
   ]
  }
 ],
 "metadata": {
  "kernelspec": {
   "display_name": "Python 3",
   "language": "python",
   "name": "python3"
  },
  "language_info": {
   "codemirror_mode": {
    "name": "ipython",
    "version": 3
   },
   "file_extension": ".py",
   "mimetype": "text/x-python",
   "name": "python",
   "nbconvert_exporter": "python",
   "pygments_lexer": "ipython3",
   "version": "3.7.9"
  }
 },
 "nbformat": 4,
 "nbformat_minor": 2
}
