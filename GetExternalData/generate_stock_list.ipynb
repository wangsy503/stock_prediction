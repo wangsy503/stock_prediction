{
 "cells": [
  {
   "cell_type": "code",
   "execution_count": 2,
   "metadata": {},
   "outputs": [],
   "source": [
    "import tushare as ts\n",
    "import pandas as pd\n",
    "pro = ts.pro_api('5d2dd2c56bb822ac0e818aaa4b0b344f95c7d5e7b9c83c69e2ed90ff')"
   ]
  },
  {
   "cell_type": "code",
   "execution_count": 3,
   "metadata": {},
   "outputs": [],
   "source": [
    "fund_stock = pd.read_csv(\"data/fund_stock_mkv_version.csv\", index_col=0)"
   ]
  },
  {
   "cell_type": "code",
   "execution_count": 4,
   "metadata": {},
   "outputs": [],
   "source": [
    "raw_stock_list = list(fund_stock.columns.values[1:])\n",
    "stock_list = []"
   ]
  },
  {
   "cell_type": "code",
   "execution_count": 5,
   "metadata": {
    "tags": []
   },
   "outputs": [],
   "source": [
    "for i in raw_stock_list:\n",
    "    if i[-2:] == 'SZ' or i[-2:] == 'SH':\n",
    "        stock_list.append(i)"
   ]
  },
  {
   "cell_type": "code",
   "execution_count": 6,
   "metadata": {},
   "outputs": [],
   "source": [
    "stock_list = pd.DataFrame(stock_list)"
   ]
  },
  {
   "cell_type": "code",
   "execution_count": 10,
   "metadata": {},
   "outputs": [],
   "source": [
    "stock_list = stock_list.groupby(0).first()"
   ]
  },
  {
   "cell_type": "code",
   "execution_count": 11,
   "metadata": {},
   "outputs": [
    {
     "data": {
      "text/html": [
       "<div>\n",
       "<style scoped>\n",
       "    .dataframe tbody tr th:only-of-type {\n",
       "        vertical-align: middle;\n",
       "    }\n",
       "\n",
       "    .dataframe tbody tr th {\n",
       "        vertical-align: top;\n",
       "    }\n",
       "\n",
       "    .dataframe thead th {\n",
       "        text-align: right;\n",
       "    }\n",
       "</style>\n",
       "<table border=\"1\" class=\"dataframe\">\n",
       "  <thead>\n",
       "    <tr style=\"text-align: right;\">\n",
       "      <th></th>\n",
       "    </tr>\n",
       "    <tr>\n",
       "      <th>0</th>\n",
       "    </tr>\n",
       "  </thead>\n",
       "  <tbody>\n",
       "    <tr>\n",
       "      <th>000001.SZ</th>\n",
       "    </tr>\n",
       "    <tr>\n",
       "      <th>000002.SZ</th>\n",
       "    </tr>\n",
       "    <tr>\n",
       "      <th>000004.SZ</th>\n",
       "    </tr>\n",
       "    <tr>\n",
       "      <th>000005.SZ</th>\n",
       "    </tr>\n",
       "    <tr>\n",
       "      <th>000006.SZ</th>\n",
       "    </tr>\n",
       "    <tr>\n",
       "      <th>...</th>\n",
       "    </tr>\n",
       "    <tr>\n",
       "      <th>688596.SH</th>\n",
       "    </tr>\n",
       "    <tr>\n",
       "      <th>688598.SH</th>\n",
       "    </tr>\n",
       "    <tr>\n",
       "      <th>688599.SH</th>\n",
       "    </tr>\n",
       "    <tr>\n",
       "      <th>688600.SH</th>\n",
       "    </tr>\n",
       "    <tr>\n",
       "      <th>688981.SH</th>\n",
       "    </tr>\n",
       "  </tbody>\n",
       "</table>\n",
       "<p>3977 rows × 0 columns</p>\n",
       "</div>"
      ],
      "text/plain": [
       "Empty DataFrame\n",
       "Columns: []\n",
       "Index: [000001.SZ, 000002.SZ, 000004.SZ, 000005.SZ, 000006.SZ, 000007.SZ, 000008.SZ, 000009.SZ, 000010.SZ, 000011.SZ, 000012.SZ, 000014.SZ, 000016.SZ, 000017.SZ, 000018.SZ, 000019.SZ, 000020.SZ, 000021.SZ, 000022.SZ, 000023.SZ, 000025.SZ, 000026.SZ, 000027.SZ, 000028.SZ, 000029.SZ, 000030.SZ, 000031.SZ, 000032.SZ, 000034.SZ, 000035.SZ, 000036.SZ, 000037.SZ, 000038.SZ, 000039.SZ, 000040.SZ, 000042.SZ, 000043.SZ, 000045.SZ, 000046.SZ, 000048.SZ, 000049.SZ, 000050.SZ, 000055.SZ, 000056.SZ, 000058.SZ, 000059.SZ, 000060.SZ, 000061.SZ, 000062.SZ, 000063.SZ, 000065.SZ, 000066.SZ, 000068.SZ, 000069.SZ, 000070.SZ, 000078.SZ, 000088.SZ, 000089.SZ, 000090.SZ, 000096.SZ, 000099.SZ, 000100.SZ, 000150.SZ, 000151.SZ, 000153.SZ, 000155.SZ, 000156.SZ, 000157.SZ, 000158.SZ, 000159.SZ, 000166.SZ, 000301.SZ, 000333.SZ, 000338.SZ, 000400.SZ, 000401.SZ, 000402.SZ, 000403.SZ, 000404.SZ, 000407.SZ, 000408.SZ, 000409.SZ, 000410.SZ, 000411.SZ, 000413.SZ, 000415.SZ, 000416.SZ, 000417.SZ, 000418.SZ, 000419.SZ, 000420.SZ, 000421.SZ, 000422.SZ, 000423.SZ, 000425.SZ, 000426.SZ, 000428.SZ, 000429.SZ, 000430.SZ, 000488.SZ, ...]\n",
       "\n",
       "[3977 rows x 0 columns]"
      ]
     },
     "execution_count": 11,
     "metadata": {},
     "output_type": "execute_result"
    }
   ],
   "source": [
    "stock_list"
   ]
  },
  {
   "cell_type": "code",
   "execution_count": 12,
   "metadata": {},
   "outputs": [],
   "source": [
    "stock_list.to_csv(\"data/stock_list_avaliable.csv\")"
   ]
  }
 ],
 "metadata": {
  "kernelspec": {
   "display_name": "Python 3",
   "language": "python",
   "name": "python3"
  },
  "language_info": {
   "codemirror_mode": {
    "name": "ipython",
    "version": 3
   },
   "file_extension": ".py",
   "mimetype": "text/x-python",
   "name": "python",
   "nbconvert_exporter": "python",
   "pygments_lexer": "ipython3",
   "version": "3.7.9"
  }
 },
 "nbformat": 4,
 "nbformat_minor": 2
}
