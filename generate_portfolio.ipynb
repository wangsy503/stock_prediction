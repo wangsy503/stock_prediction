{
 "metadata": {
  "language_info": {
   "codemirror_mode": {
    "name": "ipython",
    "version": 3
   },
   "file_extension": ".py",
   "mimetype": "text/x-python",
   "name": "python",
   "nbconvert_exporter": "python",
   "pygments_lexer": "ipython3",
   "version": "3.8.5"
  },
  "orig_nbformat": 2,
  "kernelspec": {
   "name": "python385jvsc74a57bd0fca7d41777ce3edd78a31a00163a32bda89b801e12c39377e837bf5c170a6a22",
   "display_name": "Python 3.8.5 64-bit ('base': conda)"
  }
 },
 "nbformat": 4,
 "nbformat_minor": 2,
 "cells": [
  {
   "cell_type": "code",
   "execution_count": 10,
   "metadata": {},
   "outputs": [],
   "source": [
    "import tushare as ts\n",
    "import pandas as pd\n",
    "import time\n",
    "from tqdm import tqdm\n",
    "pro = ts.pro_api('5d2dd2c56bb822ac0e818aaa4b0b344f95c7d5e7b9c83c69e2ed90ff')"
   ]
  },
  {
   "cell_type": "code",
   "execution_count": 11,
   "metadata": {},
   "outputs": [],
   "source": [
    "fund_list = pd.read_csv(\"data/fund_list.csv\", index_col=0)"
   ]
  },
  {
   "cell_type": "code",
   "execution_count": 12,
   "metadata": {},
   "outputs": [],
   "source": [
    "failed_times = 0\n",
    "#success_times = 0\n",
    "def get_protfolio(fund_code, failed_times, success_times, start_date='20180101', end_date='20201231'):\n",
    "    for _ in range(3):\n",
    "        try:\n",
    "            df = pro.fund_portfolio(ts_code=fund_code, start_date=start_date, end_date=end_date)\n",
    "            time.sleep(1)\n",
    "        except:\n",
    "            time.sleep(1)\n",
    "        else:\n",
    "            return df, failed_times\n",
    "    failed_times += 1\n",
    "    print(fund_code, \"has failed. Total failed times is\", failed_times, \"success times is\", success_times)\n",
    "    return pd.DataFrame(columns = ['tmp']), failed_times"
   ]
  },
  {
   "cell_type": "code",
   "execution_count": 17,
   "metadata": {
    "tags": []
   },
   "outputs": [
    {
     "output_type": "stream",
     "name": "stderr",
     "text": [
      "get protfolio: 100%|██████████| 6614/6614 [2:09:17<00:00,  1.17s/it]\n"
     ]
    }
   ],
   "source": [
    "success = 0\n",
    "fail = 0\n",
    "raw_portfolio_list = pd.DataFrame(columns = ['ts_code', 'ann_date', 'end_date', 'symbol', 'mkv'])\n",
    "for i in tqdm(fund_list['ts_code'], desc=\"get protfolio\"):\n",
    "    # print(\"getting the portfolio of fund\", i)\n",
    "    # print(len(get_protfolio(fund_code = i, failed_times = fail, success_times = success)))\n",
    "    # temp = get_protfolio(fund_code = i, failed_times = fail, success_times = success)\n",
    "    # fail = temp[-1]\n",
    "    # df = temp[:-1]\n",
    "    df, fail = get_protfolio(fund_code = i, failed_times = fail, success_times = success)\n",
    "    # print(i)\n",
    "    if not df.empty:\n",
    "        success += 1\n",
    "        # print(success)\n",
    "        if df.iloc[-1]['end_date'][:4] <= '2018':\n",
    "            df = df.drop(columns=['amount', 'stk_mkv_ratio', 'stk_float_ratio'])\n",
    "            raw_portfolio_list = pd.concat([raw_portfolio_list, df], ignore_index=True)"
   ]
  },
  {
   "cell_type": "code",
   "execution_count": 18,
   "metadata": {},
   "outputs": [
    {
     "output_type": "execute_result",
     "data": {
      "text/plain": [
       "           ts_code  ann_date  end_date     symbol           mkv\n",
       "0        512980.SH  20201028  20200930  600637.SH  7.318376e+07\n",
       "1        512980.SH  20201028  20200930  002027.SZ  3.056744e+08\n",
       "2        512980.SH  20201028  20200930  002131.SZ  7.179756e+07\n",
       "3        512980.SH  20201028  20200930  002555.SZ  1.854357e+08\n",
       "4        512980.SH  20201028  20200930  002602.SZ  1.048872e+08\n",
       "...            ...       ...       ...        ...           ...\n",
       "1593286  040001.OF  20180122  20171231  601336.SH  5.616000e+07\n",
       "1593287  040001.OF  20180122  20171231  601699.SH  5.429853e+07\n",
       "1593288  040001.OF  20180122  20171231  300316.SZ  4.749706e+07\n",
       "1593289  040001.OF  20180122  20171231  600048.SH  4.733600e+07\n",
       "1593290  040001.OF  20180122  20171231  002013.SZ  4.523977e+07\n",
       "\n",
       "[1593291 rows x 5 columns]"
      ],
      "text/html": "<div>\n<style scoped>\n    .dataframe tbody tr th:only-of-type {\n        vertical-align: middle;\n    }\n\n    .dataframe tbody tr th {\n        vertical-align: top;\n    }\n\n    .dataframe thead th {\n        text-align: right;\n    }\n</style>\n<table border=\"1\" class=\"dataframe\">\n  <thead>\n    <tr style=\"text-align: right;\">\n      <th></th>\n      <th>ts_code</th>\n      <th>ann_date</th>\n      <th>end_date</th>\n      <th>symbol</th>\n      <th>mkv</th>\n    </tr>\n  </thead>\n  <tbody>\n    <tr>\n      <th>0</th>\n      <td>512980.SH</td>\n      <td>20201028</td>\n      <td>20200930</td>\n      <td>600637.SH</td>\n      <td>7.318376e+07</td>\n    </tr>\n    <tr>\n      <th>1</th>\n      <td>512980.SH</td>\n      <td>20201028</td>\n      <td>20200930</td>\n      <td>002027.SZ</td>\n      <td>3.056744e+08</td>\n    </tr>\n    <tr>\n      <th>2</th>\n      <td>512980.SH</td>\n      <td>20201028</td>\n      <td>20200930</td>\n      <td>002131.SZ</td>\n      <td>7.179756e+07</td>\n    </tr>\n    <tr>\n      <th>3</th>\n      <td>512980.SH</td>\n      <td>20201028</td>\n      <td>20200930</td>\n      <td>002555.SZ</td>\n      <td>1.854357e+08</td>\n    </tr>\n    <tr>\n      <th>4</th>\n      <td>512980.SH</td>\n      <td>20201028</td>\n      <td>20200930</td>\n      <td>002602.SZ</td>\n      <td>1.048872e+08</td>\n    </tr>\n    <tr>\n      <th>...</th>\n      <td>...</td>\n      <td>...</td>\n      <td>...</td>\n      <td>...</td>\n      <td>...</td>\n    </tr>\n    <tr>\n      <th>1593286</th>\n      <td>040001.OF</td>\n      <td>20180122</td>\n      <td>20171231</td>\n      <td>601336.SH</td>\n      <td>5.616000e+07</td>\n    </tr>\n    <tr>\n      <th>1593287</th>\n      <td>040001.OF</td>\n      <td>20180122</td>\n      <td>20171231</td>\n      <td>601699.SH</td>\n      <td>5.429853e+07</td>\n    </tr>\n    <tr>\n      <th>1593288</th>\n      <td>040001.OF</td>\n      <td>20180122</td>\n      <td>20171231</td>\n      <td>300316.SZ</td>\n      <td>4.749706e+07</td>\n    </tr>\n    <tr>\n      <th>1593289</th>\n      <td>040001.OF</td>\n      <td>20180122</td>\n      <td>20171231</td>\n      <td>600048.SH</td>\n      <td>4.733600e+07</td>\n    </tr>\n    <tr>\n      <th>1593290</th>\n      <td>040001.OF</td>\n      <td>20180122</td>\n      <td>20171231</td>\n      <td>002013.SZ</td>\n      <td>4.523977e+07</td>\n    </tr>\n  </tbody>\n</table>\n<p>1593291 rows × 5 columns</p>\n</div>"
     },
     "metadata": {},
     "execution_count": 18
    }
   ],
   "source": [
    "raw_portfolio_list"
   ]
  },
  {
   "cell_type": "code",
   "execution_count": 19,
   "metadata": {},
   "outputs": [],
   "source": [
    "raw_portfolio_list.to_csv(\"data/raw_portfolio_list_whole.csv\")"
   ]
  },
  {
   "cell_type": "code",
   "execution_count": null,
   "metadata": {},
   "outputs": [],
   "source": []
  }
 ]
}